{
 "cells": [
  {
   "cell_type": "markdown",
   "metadata": {},
   "source": [
    "# How does window thickness affect the temperature of a room over the course of a typical October day in Massachusetts?\n",
    "\n",
    "Annie Chu and Annie Tor\n",
    "\n",
    "ModSim Studio 1"
   ]
  },
  {
   "cell_type": "code",
   "execution_count": 4,
   "metadata": {},
   "outputs": [],
   "source": [
    "# Configure Jupyter so figures appear in the notebook\n",
    "%matplotlib inline\n",
    "\n",
    "# Configure Jupyter to display the assigned value after an assignment\n",
    "%config InteractiveShell.ast_node_interactivity='last_expr_or_assign'\n",
    "\n",
    "# import functions from the modsim.py module\n",
    "from modsim import *"
   ]
  },
  {
   "cell_type": "markdown",
   "metadata": {},
   "source": [
    "10/30/2018\n",
    "taking weighted average of 2 temperature based on window/wall ratio\n",
    "sweeping R values (changing material)\n",
    "\n",
    "total wall dimensions (length x width x thicKNESS): 5 meters by 5 meters by 0.1651 meters (6.5 in) \n",
    "glass thickness = 3 in\n",
    "\n",
    "dhdt outputs joules\n",
    "need specific heat (of materials, related to R) in to find temp change. \n",
    "\n",
    "NEXT STEPS\n",
    "1. take outside temp data from internet\n",
    "2. figure out how to implement it with temp_out\n",
    "3. test the model\n",
    "4. find R/C/density info for chosen materials\n",
    "5. choose materials\n",
    "\n",
    "specific heat (C) must have units of KJ/Kg * K\n",
    "density must have units of Kg/m3. \n",
    "\n",
    "10/27/18 A Productive Meeting!!!\n",
    "\n",
    "Refined question: How does the window size of a set wall area affect the temperature of a room over the course of a typical October day?\n",
    "\n",
    "What we call a typical October day will be based off data for October 15th. \n",
    "We will be taking data from the outside and finding the equation of best fit for that data using the interpolate function.\n",
    "Our model will use the differential equation \n",
    "\n",
    "dH/dt of plaster = (outside temperature - inside temperature) * area of plaster wall / R-value of plaster wall\n",
    "\n",
    "dH/dt of window = (outside temperature - inside tempreature) * area of window / R-value of window\n",
    "\n",
    "The outside temperature will come from our function based on outside data.\n",
    "The first value for inside temperature will be hard-coded to typical room temperature, and all following values will be found recursively. \n",
    "The area of the plaster wall will come from the difference between a predetermined total wall area and the window area.\n",
    "The area of the window will be swept across a range of values from 0 to a predetermined total wall area.\n",
    "The R-value of the wall will be based off typical R-values for exterior walls and windows.\n",
    "\n",
    "To find the inside temperature, we will convert our dH/dt values from heat energy units to temperature units, then add them to the previous inside temperature.\n",
    "\n",
    "Since we only want to focus on the change of temperature over a day, t0 will be 0 (midnight) and t_end will be 24 (midnight of the next day).\n",
    "\n",
    "We assume that the window and the plaster will act independently of each other. \n",
    "We are also assuming that there is essentially no effect from the Sun, meaning that no thermal energy coming directly from the Sun will be considered. To justify this assumption, our hypothetical window will be North-facing (away from the Sun)."
   ]
  },
  {
   "cell_type": "code",
   "execution_count": 6,
   "metadata": {},
   "outputs": [],
   "source": [
    "def make_system(window_length, window_width, window_THICC, total_length, total_width, plaster_THICC, window_R, plaster_R, window_C, plaster_C, window_density, plaster_density):\n",
    "    init = State(temp_in = 0, temp_out = 0)\n",
    "    t0 = 0\n",
    "    t_end = 24\n",
    "    dt = 0.5\n",
    "    \n",
    "    total_area = total_length * total_width\n",
    "    \n",
    "    window_area = window_length * window_width\n",
    "    window_volume = window_area * window_THICC\n",
    "    \n",
    "    plaster_area = total_area - window_area\n",
    "    plaster_volume = plaster_area * plaster_THICC\n",
    "    \n",
    "    return System(init=init, \n",
    "                  t0 = t0, \n",
    "                  t_end = t_end, \n",
    "                  dt = dt, \n",
    "                  total_area = total_area,\n",
    "                  window_area = window_area,\n",
    "                  window_volume = window_volume,\n",
    "                  plaster_area = plaster_area,\n",
    "                  plaster_volume = plaster_volume,\n",
    "                  window_length = window_length,\n",
    "                  window_width = window_width,\n",
    "                  window_THICC = window_THICC,\n",
    "                  total_length = total_length,\n",
    "                  total_width = total_width,\n",
    "                  plaster_THICC = plaster_THICC,\n",
    "                  window_R = window_R,\n",
    "                  plaster_R = plaster_R, \n",
    "                  window_C = window_C,\n",
    "                  plaster_C = plaster_C, \n",
    "                  window_density = window_density, \n",
    "                  plaster_density = plaster_density)"
   ]
  },
  {
   "cell_type": "code",
   "execution_count": 3,
   "metadata": {},
   "outputs": [],
   "source": [
    "def update_func(state, t, system):\n",
    "    \n",
    "    temp_in = state\n",
    "    \n",
    "    unpack(system)\n",
    "    \n",
    "    delt_temp = state.temp_out - state.temp_in\n",
    "\n",
    "    dHdt_plaster = (plaster_area * delt_temp) / plaster_R  #returns heat in joules per second\n",
    "    dHdt_window = (window_area * delt_temp) / window_R #returns heat in joules per second\n",
    "    dTdt_plaster = 1000 * ((plaster_area * delt_temp) / (3600 * plaster_R * plaster_C * plaster_density * plaster_area * plaster_THICC))\n",
    "    dTdt_window = 1000 * ((window_area * delt_temp) / (3600 * window_R * window_C * window_density * window_area * window_THICC))\n",
    "\n",
    "    temp_in += dTdt_plaster + dTdt_window\n",
    "    \n",
    "    return State(temp_in=temp_in)"
   ]
  },
  {
   "cell_type": "code",
   "execution_count": 5,
   "metadata": {},
   "outputs": [
    {
     "ename": "TypeError",
     "evalue": "make_system() takes 4 positional arguments but 9 were given",
     "output_type": "error",
     "traceback": [
      "\u001b[1;31m---------------------------------------------------------------------------\u001b[0m",
      "\u001b[1;31mTypeError\u001b[0m                                 Traceback (most recent call last)",
      "\u001b[1;32m<ipython-input-5-014422fdb83d>\u001b[0m in \u001b[0;36m<module>\u001b[1;34m()\u001b[0m\n\u001b[1;32m----> 1\u001b[1;33m \u001b[0msystem\u001b[0m \u001b[1;33m=\u001b[0m \u001b[0mmake_system\u001b[0m\u001b[1;33m(\u001b[0m\u001b[1;36m1.36\u001b[0m\u001b[1;33m,\u001b[0m \u001b[1;36m0.2\u001b[0m\u001b[1;33m,\u001b[0m \u001b[1;36m0.00136\u001b[0m\u001b[1;33m,\u001b[0m \u001b[1;36m0.00027\u001b[0m\u001b[1;33m,\u001b[0m \u001b[1;36m0.036\u001b[0m\u001b[1;33m,\u001b[0m \u001b[1;36m0.1\u001b[0m\u001b[1;33m,\u001b[0m \u001b[1;36m2\u001b[0m\u001b[1;33m,\u001b[0m \u001b[1;36m0.33\u001b[0m\u001b[1;33m,\u001b[0m \u001b[1;36m100\u001b[0m\u001b[1;33m)\u001b[0m\u001b[1;33m\u001b[0m\u001b[0m\n\u001b[0m",
      "\u001b[1;31mTypeError\u001b[0m: make_system() takes 4 positional arguments but 9 were given"
     ]
    }
   ],
   "source": [
    "system = make_system(1.36, 0.2, 0.00136, 0.00027, 0.036, 0.1, 2, 0.33, 100)"
   ]
  },
  {
   "cell_type": "code",
   "execution_count": null,
   "metadata": {},
   "outputs": [],
   "source": [
    "def run_simulation(system, update_func):\n",
    "    unpack(system)\n",
    "    frame = TimeFrame(columns=init.index)\n",
    "    frame.row[t0] = init\n",
    "    \n",
    "    for t in linrange(t0, t_end, dt):\n",
    "        frame.row[t+dt] = update_func(frame.row[t], t, system)\n",
    "        \n",
    "    return frame"
   ]
  },
  {
   "cell_type": "code",
   "execution_count": null,
   "metadata": {},
   "outputs": [],
   "source": [
    "results = run_simulation(system, update_func);"
   ]
  },
  {
   "cell_type": "code",
   "execution_count": null,
   "metadata": {},
   "outputs": [],
   "source": [
    "def plot_results(R,L,E):\n",
    "    plot(R, 'm-', label = \"R\")\n",
    "    plot(L, 'g:', label = \"L\")\n",
    "    plot(E, 'b-', label = \"E\")\n",
    "    decorate(title = \"HIV\",\n",
    "            xlabel = \"Time\",\n",
    "            ylabel = \"Number of Cells\")"
   ]
  },
  {
   "cell_type": "code",
   "execution_count": null,
   "metadata": {},
   "outputs": [],
   "source": [
    "plot_results(results.R,results.L,results.E)"
   ]
  },
  {
   "cell_type": "code",
   "execution_count": null,
   "metadata": {},
   "outputs": [],
   "source": []
  }
 ],
 "metadata": {
  "kernelspec": {
   "display_name": "Python 3",
   "language": "python",
   "name": "python3"
  },
  "language_info": {
   "codemirror_mode": {
    "name": "ipython",
    "version": 3
   },
   "file_extension": ".py",
   "mimetype": "text/x-python",
   "name": "python",
   "nbconvert_exporter": "python",
   "pygments_lexer": "ipython3",
   "version": "3.6.6"
  }
 },
 "nbformat": 4,
 "nbformat_minor": 2
}
